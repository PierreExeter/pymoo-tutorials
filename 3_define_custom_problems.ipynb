{
 "cells": [
  {
   "cell_type": "markdown",
   "metadata": {},
   "source": [
    "# Defining custom problems\n",
    "Many classic optimisation problems are [already implemented in PYMOO](https://www.pymoo.org/problems/index.html). However, you will want to implement your own problem at some point. Here's how to do that. "
   ]
  },
  {
   "cell_type": "code",
   "execution_count": 1,
   "metadata": {},
   "outputs": [],
   "source": [
    "import numpy as np\n",
    "import autograd.numpy as anp\n",
    "from pymoo.model.problem import Problem\n",
    "from pymoo.util.misc import stack\n",
    "from pymoo.model.problem import FunctionalProblem"
   ]
  },
  {
   "cell_type": "markdown",
   "metadata": {},
   "source": [
    "Let's consider the following problem.\n",
    "\n",
    "\\begin{align}\n",
    "\\min \\quad f_1(x) & = (x_1^2 + x_2^2) \\\\\n",
    "\\min \\quad f_2(x) & = (x_1 - 1)^2 + x_2^2 \\\\\n",
    "\\textrm{s.t.} \\quad \n",
    "g_1(x) & = 2(x_1−0.1)(x_1−0.9)/0.18 ≤ 0 \\\\\n",
    "g_2(x) & = −20(x_1−0.4)(x_1−0.6)/4.8 ≤ 0 \\\\\n",
    "−2 & ≤ x_1 ≤ 2  \\\\\n",
    "−2 & ≤ x_2 ≤ 2\n",
    "\\end{align}\n",
    "\n",
    "It consists of:\n",
    "- 2 objective functions $f_1(x)$ and $f_2(x)$\n",
    "- 2 design variables $x_1$ and $x_2$, both in the range $[−2,2]$\n",
    "- 2 inequality contraints $g_1(x)$ and $g_2(x)$\n",
    "\n",
    "There are 3 methods to define a custom problem in PYMOO: vectorized problem, elementwise problem and functional problem.\n",
    "\n",
    "## Vectorized problem\n",
    "The _evaluate method takes a **two-dimensional** NumPy array X with n rows and m columns as an input. Each row represents an individual, and each column an optimization variable. After doing the necessary calculations, the objective values must be added to the dictionary out with the key F and the constraints with key G."
   ]
  },
  {
   "cell_type": "code",
   "execution_count": 2,
   "metadata": {},
   "outputs": [],
   "source": [
    "class MyVectorizedProblem(Problem):\n",
    "\n",
    "    def __init__(self):\n",
    "        super().__init__(n_var=2,\n",
    "                         n_obj=2,\n",
    "                         n_constr=2,\n",
    "                         xl=np.array([-2,-2]),\n",
    "                         xu=np.array([2,2]))\n",
    "\n",
    "    def _evaluate(self, X, out, *args, **kwargs):\n",
    "        f1 = X[:, 0]**2 + X[:, 1]**2\n",
    "        f2 = (X[:, 0]-1)**2 + X[:, 1]**2\n",
    "\n",
    "        g1 = 2*(X[:, 0]-0.1) * (X[:, 0]-0.9) / 0.18\n",
    "        g2 = - 20*(X[:, 0]-0.4) * (X[:, 0]-0.6) / 4.8\n",
    "\n",
    "        out[\"F\"] = np.column_stack([f1, f2])\n",
    "        out[\"G\"] = np.column_stack([g1, g2])\n",
    "\n",
    "\n",
    "vectorized_problem = MyVectorizedProblem()"
   ]
  },
  {
   "cell_type": "markdown",
   "metadata": {},
   "source": [
    "## Elementwise problem\n",
    "The _evaluate method takes a **one-dimensional** NumPy array x number of entries equal to n_var. This behavior is enabled by setting elementwise_evaluation=True while calling the super() method."
   ]
  },
  {
   "cell_type": "code",
   "execution_count": 3,
   "metadata": {},
   "outputs": [],
   "source": [
    "class MyElementwiseProblem(Problem):\n",
    "\n",
    "    def __init__(self):\n",
    "        super().__init__(n_var=2,\n",
    "                         n_obj=2,\n",
    "                         n_constr=2,\n",
    "                         xl=np.array([-2,-2]),\n",
    "                         xu=np.array([2,2]),\n",
    "                         elementwise_evaluation=True)\n",
    "\n",
    "    def _evaluate(self, x, out, *args, **kwargs):\n",
    "        f1 = x[0]**2 + x[1]**2\n",
    "        f2 = (x[0]-1)**2 + x[1]**2\n",
    "\n",
    "        g1 = 2*(x[0]-0.1) * (x[0]-0.9) / 0.18\n",
    "        g2 = - 20*(x[0]-0.4) * (x[0]-0.6) / 4.8\n",
    "\n",
    "        out[\"F\"] = [f1, f2]\n",
    "        out[\"G\"] = [g1, g2]\n",
    "\n",
    "\n",
    "elementwise_problem = MyElementwiseProblem()"
   ]
  },
  {
   "cell_type": "markdown",
   "metadata": {},
   "source": [
    "## Functional problem"
   ]
  },
  {
   "cell_type": "code",
   "execution_count": 4,
   "metadata": {},
   "outputs": [],
   "source": [
    "objs = [\n",
    "    lambda x: x[0]**2 + x[1]**2,\n",
    "    lambda x: (x[0]-1)**2 + x[1]**2\n",
    "]\n",
    "\n",
    "constr_ieq = [\n",
    "    lambda x: 2*(x[0]-0.1) * (x[0]-0.9) / 0.18,\n",
    "    lambda x: - 20*(x[0]-0.4) * (x[0]-0.6) / 4.8\n",
    "]\n",
    "\n",
    "functional_problem = FunctionalProblem(n_var=2,\n",
    "                                       objs=objs,\n",
    "                                       constr_ieq=constr_ieq,\n",
    "                                       xl=np.array([-2,-2]),\n",
    "                                       xu=np.array([2,2]))"
   ]
  },
  {
   "cell_type": "markdown",
   "metadata": {},
   "source": [
    "## More vectorized problem examples"
   ]
  },
  {
   "cell_type": "code",
   "execution_count": 5,
   "metadata": {},
   "outputs": [],
   "source": [
    "class SphereWithConstraint(Problem):\n",
    "\n",
    "    def __init__(self):\n",
    "        super().__init__(n_var=10, \n",
    "                         n_obj=1, \n",
    "                         n_constr=1, \n",
    "                         xl=0, \n",
    "                         xu=1)\n",
    "\n",
    "    def _evaluate(self, x, out, *args, **kwargs):\n",
    "        out[\"F\"] = np.sum((x - 0.5) ** 2, axis=1)\n",
    "        out[\"G\"] = 0.1 - out[\"F\"]\n",
    "        \n",
    "sphere_problem = SphereWithConstraint()"
   ]
  },
  {
   "cell_type": "code",
   "execution_count": 6,
   "metadata": {},
   "outputs": [],
   "source": [
    "class MyVectorizedProblem2(Problem):\n",
    "\n",
    "    def __init__(self, const_1=5, const_2=0.1):\n",
    "\n",
    "        # define lower and upper bounds -  1d array with length equal to number of variable\n",
    "        xl = -5 * anp.ones(10)\n",
    "        xu = 5 * anp.ones(10)\n",
    "\n",
    "        super().__init__(n_var=10, \n",
    "                         n_obj=1, \n",
    "                         n_constr=2, \n",
    "                         xl=xl, \n",
    "                         xu=xu, \n",
    "                         evaluation_of=\"auto\")\n",
    "\n",
    "        # store custom variables needed for evaluation\n",
    "        self.const_1 = const_1\n",
    "        self.const_2 = const_2\n",
    "\n",
    "    def _evaluate(self, x, out, *args, **kwargs):\n",
    "        f = anp.sum(anp.power(x, 2) - self.const_1 * anp.cos(2 * anp.pi * x), axis=1)\n",
    "        g1 = (x[:, 0] + x[:, 1]) - self.const_2\n",
    "        g2 = self.const_2 - (x[:, 2] + x[:, 3])\n",
    "\n",
    "        out[\"F\"] = f\n",
    "        out[\"G\"] = anp.column_stack([g1, g2])\n",
    "        \n",
    "        \n",
    "vectorized_problem_2 = MyVectorizedProblem2()"
   ]
  },
  {
   "cell_type": "markdown",
   "metadata": {},
   "source": [
    "## Another elementwise problem example"
   ]
  },
  {
   "cell_type": "code",
   "execution_count": 7,
   "metadata": {},
   "outputs": [],
   "source": [
    "class MyElementwiseProblem2(Problem):\n",
    "\n",
    "    def __init__(self, **kwargs):\n",
    "        super().__init__(n_var=2, \n",
    "                         n_obj=1, \n",
    "                         elementwise_evaluation=True, \n",
    "                         **kwargs)\n",
    "\n",
    "    def _evaluate(self, x, out, *args, **kwargs):\n",
    "        out[\"F\"] = x.sum()\n",
    "\n",
    "\n",
    "elementwise_problem_2 = MyElementwiseProblem2()"
   ]
  },
  {
   "cell_type": "markdown",
   "metadata": {},
   "source": [
    "## Another functional problem example"
   ]
  },
  {
   "cell_type": "code",
   "execution_count": 8,
   "metadata": {},
   "outputs": [],
   "source": [
    "objs = [\n",
    "    lambda x: np.sum((x - 2) ** 2),\n",
    "    lambda x: np.sum((x + 2) ** 2)\n",
    "]\n",
    "\n",
    "constr_ieq = [\n",
    "    lambda x: np.sum((x - 1) ** 2)\n",
    "]\n",
    "\n",
    "\n",
    "functional_problem_2 = FunctionalProblem(10,\n",
    "                            objs,\n",
    "                            constr_ieq=constr_ieq,\n",
    "                            xl=np.array([-10, -5, -10]),\n",
    "                            xu=np.array([10, 5, 10])\n",
    "                            )"
   ]
  },
  {
   "cell_type": "markdown",
   "metadata": {},
   "source": [
    "# Problem evaluation\n",
    "We can evaluate a problem with the evaluate() method. This method takes as input a two dimensional matrix where each row is a point to evaluate and each column a variable and returns a dictionary with the result of the evaluation."
   ]
  },
  {
   "cell_type": "code",
   "execution_count": 9,
   "metadata": {},
   "outputs": [],
   "source": [
    "# input vector: a random population of 3 individuals, each defined by 2 or 10 design variables.\n",
    "X_2 = np.random.rand(3, 2)\n",
    "X_10 = np.random.rand(3, 10)"
   ]
  },
  {
   "cell_type": "code",
   "execution_count": 10,
   "metadata": {},
   "outputs": [
    {
     "data": {
      "text/plain": [
       "{'F': array([[0.08865958, 0.92178874],\n",
       "        [0.25352178, 0.94993085],\n",
       "        [0.06625316, 1.06159225]]), 'CV': array([[0.15028942],\n",
       "        [0.        ],\n",
       "        [0.97416637]]), 'G': array([[ 0.15028942, -0.68135853],\n",
       "        [-0.4305956 , -0.46352665],\n",
       "        [ 0.97416637, -0.99031239]])}"
      ]
     },
     "execution_count": 10,
     "metadata": {},
     "output_type": "execute_result"
    }
   ],
   "source": [
    "vectorized_problem.evaluate(X_2, return_as_dictionary=True)"
   ]
  },
  {
   "cell_type": "code",
   "execution_count": 11,
   "metadata": {},
   "outputs": [
    {
     "data": {
      "text/plain": [
       "{'F': array([[0.08865958, 0.92178874],\n",
       "        [0.25352178, 0.94993085],\n",
       "        [0.06625316, 1.06159225]]), 'CV': array([[0.15028942],\n",
       "        [0.        ],\n",
       "        [0.97416637]]), 'G': array([[ 0.15028942, -0.68135853],\n",
       "        [-0.4305956 , -0.46352665],\n",
       "        [ 0.97416637, -0.99031239]])}"
      ]
     },
     "execution_count": 11,
     "metadata": {},
     "output_type": "execute_result"
    }
   ],
   "source": [
    "elementwise_problem.evaluate(X_2, return_as_dictionary=True)"
   ]
  },
  {
   "cell_type": "code",
   "execution_count": 12,
   "metadata": {},
   "outputs": [
    {
     "data": {
      "text/plain": [
       "{'F': array([[0.08865958, 0.92178874],\n",
       "        [0.25352178, 0.94993085],\n",
       "        [0.06625316, 1.06159225]]), 'CV': array([[0.15028942],\n",
       "        [0.        ],\n",
       "        [0.97416637]]), 'G': array([[0.15028942, 0.        ],\n",
       "        [0.        , 0.        ],\n",
       "        [0.97416637, 0.        ]])}"
      ]
     },
     "execution_count": 12,
     "metadata": {},
     "output_type": "execute_result"
    }
   ],
   "source": [
    "functional_problem.evaluate(X_2, return_as_dictionary=True)"
   ]
  },
  {
   "cell_type": "code",
   "execution_count": 13,
   "metadata": {},
   "outputs": [
    {
     "data": {
      "text/plain": [
       "{'F': array([[0.75168175],\n",
       "        [0.83946771],\n",
       "        [1.20842157]]), 'CV': array([[0.],\n",
       "        [0.],\n",
       "        [0.]]), 'G': array([[-0.65168175],\n",
       "        [-0.73946771],\n",
       "        [-1.10842157]])}"
      ]
     },
     "execution_count": 13,
     "metadata": {},
     "output_type": "execute_result"
    }
   ],
   "source": [
    "sphere_problem.evaluate(X_10, return_as_dictionary=True)"
   ]
  },
  {
   "cell_type": "code",
   "execution_count": 14,
   "metadata": {},
   "outputs": [
    {
     "data": {
      "text/plain": [
       "{'F': array([[ 13.02018527],\n",
       "        [  2.152319  ],\n",
       "        [-17.00788227]]), 'G': array([[ 0.90149626, -1.01947164],\n",
       "        [ 0.82882442, -0.52283495],\n",
       "        [ 1.57541812, -0.37100353]]), 'CV': array([[0.90149626],\n",
       "        [0.82882442],\n",
       "        [1.57541812]]), 'feasible': array([[False],\n",
       "        [False],\n",
       "        [False]]), 'dF': array([[[  3.30302764,  -1.59446704,  -3.98945639, -16.27825395,\n",
       "           30.18928505,   5.39321748, -19.75971148, -11.25048504,\n",
       "            1.60219873, -27.99258105]],\n",
       " \n",
       "        [[ -2.64141317,  17.62966488,  31.89409186,  22.63569441,\n",
       "          -21.58133575,   5.47558745, -23.60753848, -18.56252313,\n",
       "           22.96358009, -28.8773237 ]],\n",
       " \n",
       "        [[ -1.88687626, -28.16606694,  31.67896801,  30.26315304,\n",
       "           22.28974347,  30.88947072,  -7.9440922 ,  15.36147014,\n",
       "           31.89275415,  15.38885776]]]), 'dG': array([[[ 1.,  1.,  0.,  0.,  0.,  0.,  0.,  0.,  0.,  0.],\n",
       "         [ 0.,  0., -1., -1.,  0.,  0.,  0.,  0.,  0.,  0.]],\n",
       " \n",
       "        [[ 1.,  1.,  0.,  0.,  0.,  0.,  0.,  0.,  0.,  0.],\n",
       "         [ 0.,  0., -1., -1.,  0.,  0.,  0.,  0.,  0.,  0.]],\n",
       " \n",
       "        [[ 1.,  1.,  0.,  0.,  0.,  0.,  0.,  0.,  0.,  0.],\n",
       "         [ 0.,  0., -1., -1.,  0.,  0.,  0.,  0.,  0.,  0.]]]), '__autograd__': array([[0.48820239, 0.51329387, 0.52564761, 0.59382403, 0.19860487,\n",
       "         0.02717889, 0.87990381, 0.56446297, 0.0080388 , 0.69234881],\n",
       "        [0.51867974, 0.41014468, 0.24546344, 0.37737151, 0.86690449,\n",
       "         0.02759812, 0.64562427, 0.88793008, 0.12856541, 0.7894407 ],\n",
       "        [0.98045779, 0.69496033, 0.27124377, 0.19975976, 0.12377091,\n",
       "         0.29245994, 0.94928248, 0.08038163, 0.25793561, 0.0805384 ]])}"
      ]
     },
     "execution_count": 14,
     "metadata": {},
     "output_type": "execute_result"
    }
   ],
   "source": [
    "# We can return more values in the output dictionary\n",
    "vectorized_problem_2.evaluate(X_10, \n",
    "                              return_as_dictionary=True,\n",
    "                              return_values_of=[\"F\", \"G\", \"CV\", \"feasible\", \"dF\", \"dG\"])"
   ]
  },
  {
   "cell_type": "code",
   "execution_count": 15,
   "metadata": {},
   "outputs": [
    {
     "data": {
      "text/plain": [
       "{'F': array([1.5])}"
      ]
     },
     "execution_count": 15,
     "metadata": {},
     "output_type": "execute_result"
    }
   ],
   "source": [
    "# in this problem, there is no constraints defined. The single objective function returns the sum of the 2 design variables.\n",
    "# elementwise_problem_2.evaluate(X_2, return_as_dictionary=True)\n",
    "elementwise_problem_2.evaluate([1, 0.5], return_as_dictionary=True)"
   ]
  },
  {
   "cell_type": "code",
   "execution_count": 16,
   "metadata": {},
   "outputs": [
    {
     "data": {
      "text/plain": [
       "{'F': array([[24.77716362, 60.70921197],\n",
       "        [23.64630035, 62.82807997],\n",
       "        [26.91604974, 58.36237461]]), 'CV': array([[3.76017571],\n",
       "        [3.44174526],\n",
       "        [4.77763096]]), 'G': array([[3.76017571],\n",
       "        [3.44174526],\n",
       "        [4.77763096]])}"
      ]
     },
     "execution_count": 16,
     "metadata": {},
     "output_type": "execute_result"
    }
   ],
   "source": [
    "functional_problem_2.evaluate(X_10, return_as_dictionary=True)"
   ]
  },
  {
   "cell_type": "code",
   "execution_count": null,
   "metadata": {},
   "outputs": [],
   "source": []
  },
  {
   "cell_type": "code",
   "execution_count": null,
   "metadata": {},
   "outputs": [],
   "source": []
  }
 ],
 "metadata": {
  "kernelspec": {
   "display_name": "PYMOO",
   "language": "python",
   "name": "pymoo"
  },
  "language_info": {
   "codemirror_mode": {
    "name": "ipython",
    "version": 3
   },
   "file_extension": ".py",
   "mimetype": "text/x-python",
   "name": "python",
   "nbconvert_exporter": "python",
   "pygments_lexer": "ipython3",
   "version": "3.7.9"
  }
 },
 "nbformat": 4,
 "nbformat_minor": 4
}
