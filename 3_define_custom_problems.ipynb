{
 "cells": [
  {
   "cell_type": "markdown",
   "metadata": {},
   "source": [
    "# Defining custom problems\n",
    "Many classic optimisation problems are [already implemented in PYMOO](https://www.pymoo.org/problems/index.html). However, you will want to implement your own problem at some point. Here's how to do that. "
   ]
  },
  {
   "cell_type": "code",
   "execution_count": 1,
   "metadata": {},
   "outputs": [],
   "source": [
    "import numpy as np\n",
    "import autograd.numpy as anp\n",
    "from pymoo.model.problem import Problem\n",
    "from pymoo.util.misc import stack\n",
    "from pymoo.model.problem import FunctionalProblem"
   ]
  },
  {
   "cell_type": "markdown",
   "metadata": {},
   "source": [
    "Let's consider the following problem.\n",
    "\n",
    "\\begin{align}\n",
    "\\min \\quad f_1(x) & = (x_1^2 + x_2^2) \\\\\n",
    "\\min \\quad f_2(x) & = (x_1 - 1)^2 + x_2^2 \\\\\n",
    "\\textrm{s.t.} \\quad \n",
    "g_1(x) & = 2(x_1−0.1)(x_1−0.9)/0.18 ≤ 0 \\\\\n",
    "g_2(x) & = −20(x_1−0.4)(x_1−0.6)/4.8 ≤ 0 \\\\\n",
    "−2 & ≤ x_1 ≤ 2  \\\\\n",
    "−2 & ≤ x_2 ≤ 2\n",
    "\\end{align}\n",
    "\n",
    "It consists of:\n",
    "- 2 objective functions $f_1(x)$ and $f_2(x)$\n",
    "- 2 design variables $x_1$ and $x_2$, both in the range $[−2,2]$\n",
    "- 2 inequality contraints $g_1(x)$ and $g_2(x)$\n",
    "\n",
    "There are 3 methods to define a custom problem in PYMOO: vectorized problem, elementwise problem and functional problem.\n",
    "\n",
    "## Vectorized problem\n",
    "The _evaluate method takes a **two-dimensional** NumPy array X with n rows and m columns as an input. Each row represents an individual, and each column an optimization variable. After doing the necessary calculations, the objective values must be added to the dictionary out with the key F and the constraints with key G."
   ]
  },
  {
   "cell_type": "code",
   "execution_count": 2,
   "metadata": {},
   "outputs": [],
   "source": [
    "class MyVectorizedProblem(Problem):\n",
    "\n",
    "    def __init__(self):\n",
    "        super().__init__(n_var=2,\n",
    "                         n_obj=2,\n",
    "                         n_constr=2,\n",
    "                         xl=np.array([-2,-2]),\n",
    "                         xu=np.array([2,2]))\n",
    "\n",
    "    def _evaluate(self, X, out, *args, **kwargs):\n",
    "        f1 = X[:, 0]**2 + X[:, 1]**2\n",
    "        f2 = (X[:, 0]-1)**2 + X[:, 1]**2\n",
    "\n",
    "        g1 = 2*(X[:, 0]-0.1) * (X[:, 0]-0.9) / 0.18\n",
    "        g2 = - 20*(X[:, 0]-0.4) * (X[:, 0]-0.6) / 4.8\n",
    "\n",
    "        out[\"F\"] = np.column_stack([f1, f2])\n",
    "        out[\"G\"] = np.column_stack([g1, g2])\n",
    "\n",
    "\n",
    "vectorized_problem = MyVectorizedProblem()"
   ]
  },
  {
   "cell_type": "markdown",
   "metadata": {},
   "source": [
    "## Elementwise problem\n",
    "The _evaluate method takes a **one-dimensional** NumPy array x number of entries equal to n_var. This behavior is enabled by setting elementwise_evaluation=True while calling the super() method."
   ]
  },
  {
   "cell_type": "code",
   "execution_count": 3,
   "metadata": {},
   "outputs": [],
   "source": [
    "class MyElementwiseProblem(Problem):\n",
    "\n",
    "    def __init__(self):\n",
    "        super().__init__(n_var=2,\n",
    "                         n_obj=2,\n",
    "                         n_constr=2,\n",
    "                         xl=np.array([-2,-2]),\n",
    "                         xu=np.array([2,2]),\n",
    "                         elementwise_evaluation=True)\n",
    "\n",
    "    def _evaluate(self, x, out, *args, **kwargs):\n",
    "        f1 = x[0]**2 + x[1]**2\n",
    "        f2 = (x[0]-1)**2 + x[1]**2\n",
    "\n",
    "        g1 = 2*(x[0]-0.1) * (x[0]-0.9) / 0.18\n",
    "        g2 = - 20*(x[0]-0.4) * (x[0]-0.6) / 4.8\n",
    "\n",
    "        out[\"F\"] = [f1, f2]\n",
    "        out[\"G\"] = [g1, g2]\n",
    "\n",
    "\n",
    "elementwise_problem = MyElementwiseProblem()"
   ]
  },
  {
   "cell_type": "markdown",
   "metadata": {},
   "source": [
    "## Functional problem"
   ]
  },
  {
   "cell_type": "code",
   "execution_count": 4,
   "metadata": {},
   "outputs": [],
   "source": [
    "objs = [\n",
    "    lambda x: x[0]**2 + x[1]**2,\n",
    "    lambda x: (x[0]-1)**2 + x[1]**2\n",
    "]\n",
    "\n",
    "constr_ieq = [\n",
    "    lambda x: 2*(x[0]-0.1) * (x[0]-0.9) / 0.18,\n",
    "    lambda x: - 20*(x[0]-0.4) * (x[0]-0.6) / 4.8\n",
    "]\n",
    "\n",
    "functional_problem = FunctionalProblem(n_var=2,\n",
    "                                       objs=objs,\n",
    "                                       constr_ieq=constr_ieq,\n",
    "                                       xl=np.array([-2,-2]),\n",
    "                                       xu=np.array([2,2]))"
   ]
  },
  {
   "cell_type": "markdown",
   "metadata": {},
   "source": [
    "## More vectorized problem examples"
   ]
  },
  {
   "cell_type": "code",
   "execution_count": 5,
   "metadata": {},
   "outputs": [],
   "source": [
    "class SphereWithConstraint(Problem):\n",
    "\n",
    "    def __init__(self):\n",
    "        super().__init__(n_var=10, \n",
    "                         n_obj=1, \n",
    "                         n_constr=1, \n",
    "                         xl=0, \n",
    "                         xu=1)\n",
    "\n",
    "    def _evaluate(self, x, out, *args, **kwargs):\n",
    "        out[\"F\"] = np.sum((x - 0.5) ** 2, axis=1)\n",
    "        out[\"G\"] = 0.1 - out[\"F\"]\n",
    "        \n",
    "sphere_problem = SphereWithConstraint()"
   ]
  },
  {
   "cell_type": "code",
   "execution_count": 6,
   "metadata": {},
   "outputs": [],
   "source": [
    "class MyVectorizedProblem2(Problem):\n",
    "\n",
    "    def __init__(self, const_1=5, const_2=0.1):\n",
    "\n",
    "        # define lower and upper bounds -  1d array with length equal to number of variable\n",
    "        xl = -5 * anp.ones(10)\n",
    "        xu = 5 * anp.ones(10)\n",
    "\n",
    "        super().__init__(n_var=10, \n",
    "                         n_obj=1, \n",
    "                         n_constr=2, \n",
    "                         xl=xl, \n",
    "                         xu=xu, \n",
    "                         evaluation_of=\"auto\")\n",
    "\n",
    "        # store custom variables needed for evaluation\n",
    "        self.const_1 = const_1\n",
    "        self.const_2 = const_2\n",
    "\n",
    "    def _evaluate(self, x, out, *args, **kwargs):\n",
    "        f = anp.sum(anp.power(x, 2) - self.const_1 * anp.cos(2 * anp.pi * x), axis=1)\n",
    "        g1 = (x[:, 0] + x[:, 1]) - self.const_2\n",
    "        g2 = self.const_2 - (x[:, 2] + x[:, 3])\n",
    "\n",
    "        out[\"F\"] = f\n",
    "        out[\"G\"] = anp.column_stack([g1, g2])\n",
    "        \n",
    "        \n",
    "vectorized_problem_2 = MyVectorizedProblem2()"
   ]
  },
  {
   "cell_type": "markdown",
   "metadata": {},
   "source": [
    "## Another elementwise problem example"
   ]
  },
  {
   "cell_type": "code",
   "execution_count": 7,
   "metadata": {},
   "outputs": [],
   "source": [
    "class MyElementwiseProblem2(Problem):\n",
    "\n",
    "    def __init__(self, **kwargs):\n",
    "        super().__init__(n_var=2, \n",
    "                         n_obj=1, \n",
    "                         elementwise_evaluation=True, \n",
    "                         **kwargs)\n",
    "\n",
    "    def _evaluate(self, x, out, *args, **kwargs):\n",
    "        out[\"F\"] = x.sum()\n",
    "\n",
    "\n",
    "elementwise_problem_2 = MyElementwiseProblem2()"
   ]
  },
  {
   "cell_type": "markdown",
   "metadata": {},
   "source": [
    "## Another functional problem example"
   ]
  },
  {
   "cell_type": "code",
   "execution_count": 8,
   "metadata": {},
   "outputs": [],
   "source": [
    "objs = [\n",
    "    lambda x: np.sum((x - 2) ** 2),\n",
    "    lambda x: np.sum((x + 2) ** 2)\n",
    "]\n",
    "\n",
    "constr_ieq = [\n",
    "    lambda x: np.sum((x - 1) ** 2)\n",
    "]\n",
    "\n",
    "\n",
    "functional_problem_2 = FunctionalProblem(10,\n",
    "                            objs,\n",
    "                            constr_ieq=constr_ieq,\n",
    "                            xl=np.array([-10, -5, -10]),\n",
    "                            xu=np.array([10, 5, 10])\n",
    "                            )"
   ]
  },
  {
   "cell_type": "markdown",
   "metadata": {},
   "source": [
    "# Problem evaluation\n",
    "We can evaluate a problem with the evaluate() method. This method takes as input a two dimensional matrix where each row is a point to evaluate and each column a variable and returns a dictionary with the result of the evaluation."
   ]
  },
  {
   "cell_type": "code",
   "execution_count": 9,
   "metadata": {},
   "outputs": [],
   "source": [
    "# input vector: a random population of 3 individuals, each defined by 2 or 10 design variables.\n",
    "X_2 = np.random.rand(3, 2)\n",
    "X_10 = np.random.rand(3, 10)"
   ]
  },
  {
   "cell_type": "code",
   "execution_count": 10,
   "metadata": {},
   "outputs": [
    {
     "data": {
      "text/plain": [
       "{'F': array([[0.81087827, 0.21912118],\n",
       "        [1.5034484 , 0.78542261],\n",
       "        [0.70667859, 0.82637445]]), 'CV': array([[0.        ],\n",
       "        [0.        ],\n",
       "        [0.02674261]]), 'G': array([[-0.80506541, -0.32310047],\n",
       "        [-0.34566377, -0.49537609],\n",
       "        [-1.73798028,  0.02674261]])}"
      ]
     },
     "execution_count": 10,
     "metadata": {},
     "output_type": "execute_result"
    }
   ],
   "source": [
    "vectorized_problem.evaluate(X_2, return_as_dictionary=True)"
   ]
  },
  {
   "cell_type": "code",
   "execution_count": 11,
   "metadata": {},
   "outputs": [
    {
     "data": {
      "text/plain": [
       "{'F': array([[0.81087827, 0.21912118],\n",
       "        [1.5034484 , 0.78542261],\n",
       "        [0.70667859, 0.82637445]]), 'CV': array([[0.        ],\n",
       "        [0.        ],\n",
       "        [0.02674261]]), 'G': array([[-0.80506541, -0.32310047],\n",
       "        [-0.34566377, -0.49537609],\n",
       "        [-1.73798028,  0.02674261]])}"
      ]
     },
     "execution_count": 11,
     "metadata": {},
     "output_type": "execute_result"
    }
   ],
   "source": [
    "elementwise_problem.evaluate(X_2, return_as_dictionary=True)"
   ]
  },
  {
   "cell_type": "code",
   "execution_count": 12,
   "metadata": {},
   "outputs": [
    {
     "data": {
      "text/plain": [
       "{'F': array([[0.81087827, 0.21912118],\n",
       "        [1.5034484 , 0.78542261],\n",
       "        [0.70667859, 0.82637445]]), 'CV': array([[0.        ],\n",
       "        [0.        ],\n",
       "        [0.02674261]]), 'G': array([[0.        , 0.        ],\n",
       "        [0.        , 0.        ],\n",
       "        [0.        , 0.02674261]])}"
      ]
     },
     "execution_count": 12,
     "metadata": {},
     "output_type": "execute_result"
    }
   ],
   "source": [
    "functional_problem.evaluate(X_2, return_as_dictionary=True)"
   ]
  },
  {
   "cell_type": "code",
   "execution_count": 13,
   "metadata": {},
   "outputs": [
    {
     "data": {
      "text/plain": [
       "{'F': array([[1.15042437],\n",
       "        [0.94046071],\n",
       "        [1.02375656]]), 'CV': array([[0.],\n",
       "        [0.],\n",
       "        [0.]]), 'G': array([[-1.05042437],\n",
       "        [-0.84046071],\n",
       "        [-0.92375656]])}"
      ]
     },
     "execution_count": 13,
     "metadata": {},
     "output_type": "execute_result"
    }
   ],
   "source": [
    "sphere_problem.evaluate(X_10, return_as_dictionary=True)"
   ]
  },
  {
   "cell_type": "code",
   "execution_count": 14,
   "metadata": {},
   "outputs": [
    {
     "data": {
      "text/plain": [
       "{'F': array([[-8.07163185],\n",
       "        [-2.29241499],\n",
       "        [-5.20633783]]), 'G': array([[ 0.88579063, -1.10042268],\n",
       "        [ 0.28220256, -0.40944205],\n",
       "        [ 0.06113449, -0.91843568]]), 'CV': array([[0.88579063],\n",
       "        [0.28220256],\n",
       "        [0.06113449]]), 'feasible': array([[False],\n",
       "        [False],\n",
       "        [False]]), 'dF': array([[[ -7.25681455,   6.51259143, -25.46986727,  24.11557907,\n",
       "           28.47885572,  17.03940501,  -4.80270106, -28.33370999,\n",
       "           -8.16702513,  28.62121531]],\n",
       " \n",
       "        [[ 29.36467993,  29.95899516,  31.91115334,  31.86247294,\n",
       "            9.61746544,   2.02556659,  27.90385713,  -8.09201747,\n",
       "          -18.88811863,  -6.58397957]],\n",
       " \n",
       "        [[ 26.12460534,   1.51875465,  30.75106833, -27.56658396,\n",
       "          -15.15107568,  -5.8975372 , -15.57973742,  31.53735039,\n",
       "            6.29964495,  18.6469869 ]]]), 'dG': array([[[ 1.,  1.,  0.,  0.,  0.,  0.,  0.,  0.,  0.,  0.],\n",
       "         [ 0.,  0., -1., -1.,  0.,  0.,  0.,  0.,  0.,  0.]],\n",
       " \n",
       "        [[ 1.,  1.,  0.,  0.,  0.,  0.,  0.,  0.,  0.,  0.],\n",
       "         [ 0.,  0., -1., -1.,  0.,  0.,  0.,  0.,  0.,  0.]],\n",
       " \n",
       "        [[ 1.,  1.,  0.,  0.,  0.,  0.,  0.,  0.,  0.,  0.],\n",
       "         [ 0.,  0., -1., -1.,  0.,  0.,  0.,  0.,  0.,  0.]]]), '__autograd__': array([[0.95289706, 0.03289357, 0.83403044, 0.36639224, 0.32683847,\n",
       "         0.41370204, 0.96561868, 0.69760605, 0.94810433, 0.17810843],\n",
       "        [0.18705201, 0.19515055, 0.2484036 , 0.26103846, 0.45530542,\n",
       "         0.01016555, 0.33302047, 0.54722936, 0.88578203, 0.95641184],\n",
       "        [0.15351468, 0.00761981, 0.20812562, 0.81031006, 0.90918297,\n",
       "         0.53560016, 0.58955247, 0.22683294, 0.03180337, 0.40388969]])}"
      ]
     },
     "execution_count": 14,
     "metadata": {},
     "output_type": "execute_result"
    }
   ],
   "source": [
    "# We can return more values in the output dictionary\n",
    "vectorized_problem_2.evaluate(X_10, \n",
    "                              return_as_dictionary=True,\n",
    "                              return_values_of=[\"F\", \"G\", \"CV\", \"feasible\", \"dF\", \"dG\"])"
   ]
  },
  {
   "cell_type": "code",
   "execution_count": 15,
   "metadata": {},
   "outputs": [
    {
     "data": {
      "text/plain": [
       "{'F': array([1.5])}"
      ]
     },
     "execution_count": 15,
     "metadata": {},
     "output_type": "execute_result"
    }
   ],
   "source": [
    "# in this problem, there is no constraints defined. The single objective function returns the sum of the 2 design variables.\n",
    "# elementwise_problem_2.evaluate(X_2, return_as_dictionary=True)\n",
    "elementwise_problem_2.evaluate([1, 0.5], return_as_dictionary=True)"
   ]
  },
  {
   "cell_type": "code",
   "execution_count": 16,
   "metadata": {},
   "outputs": [
    {
     "data": {
      "text/plain": [
       "{'F': array([[21.50185041, 67.23138097],\n",
       "        [26.20178287, 58.83825711],\n",
       "        [26.89446125, 57.90591541]]), 'CV': array([[2.93423305],\n",
       "        [4.36090143],\n",
       "        [4.64732479]]), 'G': array([[2.93423305],\n",
       "        [4.36090143],\n",
       "        [4.64732479]])}"
      ]
     },
     "execution_count": 16,
     "metadata": {},
     "output_type": "execute_result"
    }
   ],
   "source": [
    "functional_problem_2.evaluate(X_10, return_as_dictionary=True)"
   ]
  },
  {
   "cell_type": "code",
   "execution_count": null,
   "metadata": {},
   "outputs": [],
   "source": []
  },
  {
   "cell_type": "code",
   "execution_count": null,
   "metadata": {},
   "outputs": [],
   "source": []
  }
 ],
 "metadata": {
  "kernelspec": {
   "display_name": "PYMOO",
   "language": "python",
   "name": "pymoo"
  },
  "language_info": {
   "codemirror_mode": {
    "name": "ipython",
    "version": 3
   },
   "file_extension": ".py",
   "mimetype": "text/x-python",
   "name": "python",
   "nbconvert_exporter": "python",
   "pygments_lexer": "ipython3",
   "version": "3.7.9"
  }
 },
 "nbformat": 4,
 "nbformat_minor": 4
}
