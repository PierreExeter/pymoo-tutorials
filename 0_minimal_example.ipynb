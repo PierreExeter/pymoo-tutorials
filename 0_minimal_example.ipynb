{
 "cells": [
  {
   "cell_type": "markdown",
   "metadata": {},
   "source": [
    "# Simple optimisation example with PYMOO"
   ]
  },
  {
   "cell_type": "code",
   "execution_count": 1,
   "metadata": {},
   "outputs": [],
   "source": [
    "from pymoo.algorithms.nsga2 import NSGA2\n",
    "from pymoo.factory import get_sampling, get_crossover, get_mutation, get_termination, get_problem\n",
    "from pymoo.optimize import minimize\n",
    "from pymoo.visualization.scatter import Scatter\n",
    "from pymoo.util.plotting import plot"
   ]
  },
  {
   "cell_type": "markdown",
   "metadata": {},
   "source": [
    "## Define the problem"
   ]
  },
  {
   "cell_type": "code",
   "execution_count": 2,
   "metadata": {},
   "outputs": [],
   "source": [
    "problem = get_problem(\"bnh\")"
   ]
  },
  {
   "cell_type": "markdown",
   "metadata": {},
   "source": [
    "The [BNH problem](https://www.pymoo.org/problems/multi/bnh.html) has 2 objectives, 2 design variables and 2 constraints.  "
   ]
  },
  {
   "cell_type": "markdown",
   "metadata": {},
   "source": [
    "## Define the algorithm"
   ]
  },
  {
   "cell_type": "code",
   "execution_count": 3,
   "metadata": {},
   "outputs": [],
   "source": [
    "algorithm = NSGA2(\n",
    "    pop_size=40,\n",
    "    n_offsprings=10,\n",
    "    sampling=get_sampling(\"real_random\"),\n",
    "    crossover=get_crossover(\"real_sbx\", prob=0.9, eta=15),\n",
    "    mutation=get_mutation(\"real_pm\", eta=20),\n",
    "    eliminate_duplicates=True)"
   ]
  },
  {
   "cell_type": "markdown",
   "metadata": {},
   "source": [
    "## Define the termination criteria"
   ]
  },
  {
   "cell_type": "code",
   "execution_count": 4,
   "metadata": {},
   "outputs": [],
   "source": [
    "termination = get_termination(\"n_gen\", 40)"
   ]
  },
  {
   "cell_type": "markdown",
   "metadata": {},
   "source": [
    "## Minimise the objective"
   ]
  },
  {
   "cell_type": "code",
   "execution_count": 5,
   "metadata": {},
   "outputs": [
    {
     "name": "stdout",
     "output_type": "stream",
     "text": [
      "==========================================================================================\n",
      "n_gen |  n_eval |   cv (min)   |   cv (avg)   |     igd      |      gd      |      hv     \n",
      "==========================================================================================\n",
      "    1 |      40 |  0.00000E+00 |  0.011008199 |  7.070923693 |  0.934041705 |  4.78217E+03\n",
      "    2 |      50 |  0.00000E+00 |  0.00000E+00 |  6.804576208 |  0.953317127 |  4.80681E+03\n",
      "    3 |      60 |  0.00000E+00 |  0.00000E+00 |  4.816127404 |  0.844549520 |  4.84588E+03\n",
      "    4 |      70 |  0.00000E+00 |  0.00000E+00 |  4.223022525 |  0.786755117 |  4.88281E+03\n",
      "    5 |      80 |  0.00000E+00 |  0.00000E+00 |  4.123295713 |  0.852042761 |  4.89774E+03\n",
      "    6 |      90 |  0.00000E+00 |  0.00000E+00 |  3.917079077 |  0.720212921 |  4.91904E+03\n",
      "    7 |     100 |  0.00000E+00 |  0.00000E+00 |  3.624161944 |  0.761017660 |  4.93232E+03\n",
      "    8 |     110 |  0.00000E+00 |  0.00000E+00 |  3.478740892 |  0.740053162 |  4.94243E+03\n",
      "    9 |     120 |  0.00000E+00 |  0.00000E+00 |  3.268831867 |  0.785483371 |  4.95322E+03\n",
      "   10 |     130 |  0.00000E+00 |  0.00000E+00 |  3.186972500 |  0.788728667 |  4.95604E+03\n",
      "   11 |     140 |  0.00000E+00 |  0.00000E+00 |  3.150430092 |  0.824830062 |  4.96136E+03\n",
      "   12 |     150 |  0.00000E+00 |  0.00000E+00 |  3.119186678 |  0.719802045 |  4.96622E+03\n",
      "   13 |     160 |  0.00000E+00 |  0.00000E+00 |  3.086360201 |  0.683354103 |  4.97196E+03\n",
      "   14 |     170 |  0.00000E+00 |  0.00000E+00 |  2.068347391 |  0.719334852 |  4.97354E+03\n",
      "   15 |     180 |  0.00000E+00 |  0.00000E+00 |  2.044226795 |  0.691005229 |  4.97814E+03\n",
      "   16 |     190 |  0.00000E+00 |  0.00000E+00 |  2.044355968 |  0.696571081 |  4.97575E+03\n",
      "   17 |     200 |  0.00000E+00 |  0.00000E+00 |  1.963538742 |  0.580443765 |  4.98497E+03\n",
      "   18 |     210 |  0.00000E+00 |  0.00000E+00 |  1.968269848 |  0.606912074 |  4.98644E+03\n",
      "   19 |     220 |  0.00000E+00 |  0.00000E+00 |  1.999522832 |  0.584307138 |  4.98171E+03\n",
      "   20 |     230 |  0.00000E+00 |  0.00000E+00 |  1.951495760 |  0.599460997 |  4.98694E+03\n",
      "   21 |     240 |  0.00000E+00 |  0.00000E+00 |  1.929433859 |  0.630053319 |  4.98796E+03\n",
      "   22 |     250 |  0.00000E+00 |  0.00000E+00 |  1.951723640 |  0.619415479 |  4.99111E+03\n",
      "   23 |     260 |  0.00000E+00 |  0.00000E+00 |  1.952390320 |  0.644291959 |  4.99197E+03\n",
      "   24 |     270 |  0.00000E+00 |  0.00000E+00 |  1.956085190 |  0.631697180 |  4.99201E+03\n",
      "   25 |     280 |  0.00000E+00 |  0.00000E+00 |  1.953145914 |  0.626911149 |  4.99247E+03\n",
      "   26 |     290 |  0.00000E+00 |  0.00000E+00 |  1.812905944 |  0.634878854 |  4.99173E+03\n",
      "   27 |     300 |  0.00000E+00 |  0.00000E+00 |  1.800355589 |  0.640603476 |  4.99220E+03\n",
      "   28 |     310 |  0.00000E+00 |  0.00000E+00 |  1.722599528 |  0.586319583 |  4.99226E+03\n",
      "   29 |     320 |  0.00000E+00 |  0.00000E+00 |  1.533626836 |  0.602384471 |  4.99382E+03\n",
      "   30 |     330 |  0.00000E+00 |  0.00000E+00 |  1.621253360 |  0.594206831 |  4.99334E+03\n",
      "   31 |     340 |  0.00000E+00 |  0.00000E+00 |  1.558737927 |  0.578454923 |  4.99512E+03\n",
      "   32 |     350 |  0.00000E+00 |  0.00000E+00 |  1.529381960 |  0.561369452 |  4.99866E+03\n",
      "   33 |     360 |  0.00000E+00 |  0.00000E+00 |  1.498036049 |  0.574773886 |  5.00067E+03\n",
      "   34 |     370 |  0.00000E+00 |  0.00000E+00 |  1.515804545 |  0.578334800 |  4.99977E+03\n",
      "   35 |     380 |  0.00000E+00 |  0.00000E+00 |  2.309714730 |  0.596999479 |  5.00144E+03\n",
      "   36 |     390 |  0.00000E+00 |  0.00000E+00 |  2.286529992 |  0.616658610 |  5.00208E+03\n",
      "   37 |     400 |  0.00000E+00 |  0.00000E+00 |  2.308996969 |  0.593389474 |  5.00763E+03\n",
      "   38 |     410 |  0.00000E+00 |  0.00000E+00 |  2.327857859 |  0.590339993 |  5.00447E+03\n",
      "   39 |     420 |  0.00000E+00 |  0.00000E+00 |  2.241967110 |  0.533898825 |  5.01489E+03\n",
      "   40 |     430 |  0.00000E+00 |  0.00000E+00 |  2.292516163 |  0.540868913 |  5.00960E+03\n"
     ]
    }
   ],
   "source": [
    "res = minimize(problem=problem,\n",
    "               algorithm=algorithm,\n",
    "               termination=termination,\n",
    "               seed=1,\n",
    "               verbose=True)"
   ]
  },
  {
   "cell_type": "markdown",
   "metadata": {},
   "source": [
    "## Plot the results"
   ]
  },
  {
   "cell_type": "code",
   "execution_count": 6,
   "metadata": {},
   "outputs": [
    {
     "data": {
      "image/png": "[encoded data removed]",
      "text/plain": [
       "<Figure size 576x432 with 1 Axes>"
      ]
     },
     "metadata": {
      "needs_background": "light"
     },
     "output_type": "display_data"
    }
   ],
   "source": [
    "plot = Scatter()\n",
    "plot.add(res.F)\n",
    "plot.show();"
   ]
  },
  {
   "cell_type": "code",
   "execution_count": null,
   "metadata": {},
   "outputs": [],
   "source": []
  }
 ],
 "metadata": {
  "kernelspec": {
   "display_name": "PYMOO",
   "language": "python",
   "name": "pymoo"
  },
  "language_info": {
   "codemirror_mode": {
    "name": "ipython",
    "version": 3
   },
   "file_extension": ".py",
   "mimetype": "text/x-python",
   "name": "python",
   "nbconvert_exporter": "python",
   "pygments_lexer": "ipython3",
   "version": "3.7.9"
  }
 },
 "nbformat": 4,
 "nbformat_minor": 4
}
